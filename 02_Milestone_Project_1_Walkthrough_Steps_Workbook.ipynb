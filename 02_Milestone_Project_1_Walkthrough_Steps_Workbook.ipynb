{
  "cells": [
    {
      "cell_type": "markdown",
      "metadata": {
        "id": "view-in-github",
        "colab_type": "text"
      },
      "source": [
        "<a href=\"https://colab.research.google.com/github/bhaveshdaswani93/100-project-ideas/blob/master/02_Milestone_Project_1_Walkthrough_Steps_Workbook.ipynb\" target=\"_parent\"><img src=\"https://colab.research.google.com/assets/colab-badge.svg\" alt=\"Open In Colab\"/></a>"
      ]
    },
    {
      "cell_type": "markdown",
      "metadata": {
        "id": "FsOoOHmcsum2"
      },
      "source": [
        "___\n",
        "\n",
        "<a href='https://www.udemy.com/user/joseportilla/'><img src='../Pierian_Data_Logo.png'/></a>\n",
        "___\n",
        "<center><em>Content Copyright by Pierian Data</em></center>"
      ]
    },
    {
      "cell_type": "markdown",
      "metadata": {
        "id": "_qTMrZlRsum3"
      },
      "source": [
        "# Milestone Project 1: Walkthrough Steps Workbook\n",
        "\n",
        "Below is a set of steps for you to follow to try to create the Tic Tac Toe Milestone Project game!"
      ]
    },
    {
      "cell_type": "markdown",
      "metadata": {
        "id": "lpz88ASksum4"
      },
      "source": [
        "#### Some suggested tools before you get started:\n",
        "To take input from a user:\n",
        "\n",
        "    player1 = input(\"Please pick a marker 'X' or 'O'\")\n",
        "    \n",
        "Note that input() takes in a string. If you need an integer value, use\n",
        "\n",
        "    position = int(input('Please enter a number'))\n",
        "    \n",
        "<br>To clear the screen between moves:\n",
        "\n",
        "    from IPython.display import clear_output\n",
        "    clear_output()\n",
        "    \n",
        "Note that clear_output() will only work in jupyter. To clear the screen in other IDEs, consider:\n",
        "\n",
        "    print('\\n'*100)\n",
        "    \n",
        "This scrolls the previous board up out of view. Now on to the program!"
      ]
    },
    {
      "cell_type": "markdown",
      "metadata": {
        "id": "viEAMm0zsum4"
      },
      "source": [
        "**Step 1: Write a function that can print out a board. Set up your board as a list, where each index 1-9 corresponds with a number on a number pad, so you get a 3 by 3 board representation.**"
      ]
    },
    {
      "cell_type": "code",
      "execution_count": 1,
      "metadata": {
        "collapsed": true,
        "id": "vhwSU33isum4"
      },
      "outputs": [],
      "source": [
        "from IPython.display import clear_output\n",
        "\n",
        "def display_board(board):\n",
        "    clear_output()\n",
        "    print(f'{board[1]}| {board[2]} | {board[3]}')\n",
        "    print(f'{board[4]}| {board[5]} | {board[6]}')\n",
        "    print(f'{board[7]}| {board[8]} | {board[9]}')\n",
        "    pass"
      ]
    },
    {
      "cell_type": "markdown",
      "metadata": {
        "id": "-5Iq2_X-sum5"
      },
      "source": [
        "**TEST Step 1:** run your function on a test version of the board list, and make adjustments as necessary"
      ]
    },
    {
      "cell_type": "code",
      "execution_count": 2,
      "metadata": {
        "collapsed": true,
        "id": "u4HaxGwKsum5",
        "colab": {
          "base_uri": "https://localhost:8080/"
        },
        "outputId": "cc93cfcf-298c-468e-a7cc-0946003765df"
      },
      "outputs": [
        {
          "output_type": "stream",
          "name": "stdout",
          "text": [
            "X| O | X\n",
            "O| X | O\n",
            "X| O | X\n"
          ]
        }
      ],
      "source": [
        "test_board = ['#','X','O','X','O','X','O','X','O','X']\n",
        "display_board(test_board)"
      ]
    },
    {
      "cell_type": "markdown",
      "metadata": {
        "id": "Jjx9G7sYsum5"
      },
      "source": [
        "**Step 2: Write a function that can take in a player input and assign their marker as 'X' or 'O'. Think about using *while* loops to continually ask until you get a correct answer.**"
      ]
    },
    {
      "cell_type": "code",
      "execution_count": 3,
      "metadata": {
        "collapsed": true,
        "id": "1OQbOoLSsum5"
      },
      "outputs": [],
      "source": [
        "def player_input():\n",
        "    allowed_values = ['X', 'O']\n",
        "    choice = 'wrong'\n",
        "    while choice not in allowed_values:\n",
        "          choice = input('Please select your marker, X or O').strip().upper()\n",
        "          if choice not in allowed_values:\n",
        "             print ('Invalid marker selected, please choose from X or O')\n",
        "    return choice"
      ]
    },
    {
      "cell_type": "markdown",
      "metadata": {
        "id": "C6nyUHPssum6"
      },
      "source": [
        "**TEST Step 2:** run the function to make sure it returns the desired output"
      ]
    },
    {
      "cell_type": "code",
      "execution_count": 4,
      "metadata": {
        "collapsed": true,
        "id": "EnftwOONsum6",
        "colab": {
          "base_uri": "https://localhost:8080/",
          "height": 53
        },
        "outputId": "020a9f86-d538-4f8b-8e4f-6384eae86eb5"
      },
      "outputs": [
        {
          "name": "stdout",
          "output_type": "stream",
          "text": [
            "Please select your marker, X or OX\n"
          ]
        },
        {
          "output_type": "execute_result",
          "data": {
            "text/plain": [
              "'X'"
            ],
            "application/vnd.google.colaboratory.intrinsic+json": {
              "type": "string"
            }
          },
          "metadata": {},
          "execution_count": 4
        }
      ],
      "source": [
        "\n",
        "\n",
        "player_input()"
      ]
    },
    {
      "cell_type": "markdown",
      "metadata": {
        "id": "lrByqJpDsum6"
      },
      "source": [
        "**Step 3: Write a function that takes in the board list object, a marker ('X' or 'O'), and a desired position (number 1-9) and assigns it to the board.**"
      ]
    },
    {
      "cell_type": "code",
      "execution_count": 5,
      "metadata": {
        "collapsed": true,
        "id": "M50VH8mpsum6"
      },
      "outputs": [],
      "source": [
        "def place_marker(board, marker, position):\n",
        "    board[position] = marker\n",
        "    return board"
      ]
    },
    {
      "cell_type": "markdown",
      "metadata": {
        "id": "etSR0qrEsum6"
      },
      "source": [
        "**TEST Step 3:** run the place marker function using test parameters and display the modified board"
      ]
    },
    {
      "cell_type": "code",
      "execution_count": 6,
      "metadata": {
        "collapsed": true,
        "id": "aAERzQPBsum6",
        "colab": {
          "base_uri": "https://localhost:8080/"
        },
        "outputId": "21ddceea-4895-4ea7-8648-4aea9da467e2"
      },
      "outputs": [
        {
          "output_type": "stream",
          "name": "stdout",
          "text": [
            "X| O | X\n",
            "O| X | O\n",
            "X| $ | X\n"
          ]
        }
      ],
      "source": [
        "place_marker(test_board,'$',8)\n",
        "display_board(test_board)"
      ]
    },
    {
      "cell_type": "markdown",
      "metadata": {
        "id": "z-l4ymAesum6"
      },
      "source": [
        "**Step 4: Write a function that takes in a board and a mark (X or O) and then checks to see if that mark has won. **"
      ]
    },
    {
      "cell_type": "code",
      "execution_count": 7,
      "metadata": {
        "collapsed": true,
        "id": "KcOsf39wsum6"
      },
      "outputs": [],
      "source": [
        "def win_check(board, mark):\n",
        "    is_won = False\n",
        "    if board[1] == mark and board[2] == mark and board[3] == mark:\n",
        "       is_won = True\n",
        "    elif board[4] == mark and board[5] == mark and board[6] == mark:\n",
        "       is_won = True\n",
        "    elif board[7] == mark and board[8] == mark and board[9] == mark:\n",
        "       is_won = True\n",
        "    elif board[1] == mark and board[4] == mark and board[7] == mark:\n",
        "       is_won = True\n",
        "    elif board[2] == mark and board[5] == mark and board[8] == mark:\n",
        "       is_won = True\n",
        "    elif board[3] == mark and board[6] == mark and board[9] == mark:\n",
        "       is_won = True\n",
        "    elif board[1] == mark and board[5] == mark and board[9] == mark:\n",
        "       is_won = True\n",
        "    elif board[3] == mark and board[5] == mark and board[7] == mark:\n",
        "       is_won = True\n",
        "\n",
        "    return is_won"
      ]
    },
    {
      "cell_type": "markdown",
      "metadata": {
        "id": "1KfuSGfRsum7"
      },
      "source": [
        "**TEST Step 4:** run the win_check function against our test_board - it should return True"
      ]
    },
    {
      "cell_type": "code",
      "execution_count": 8,
      "metadata": {
        "collapsed": true,
        "id": "35f73H8psum7",
        "colab": {
          "base_uri": "https://localhost:8080/"
        },
        "outputId": "4d4bddff-678b-4503-e2c9-85d6f5009614"
      },
      "outputs": [
        {
          "output_type": "execute_result",
          "data": {
            "text/plain": [
              "False"
            ]
          },
          "metadata": {},
          "execution_count": 8
        }
      ],
      "source": [
        "win_check(test_board,'O')"
      ]
    },
    {
      "cell_type": "markdown",
      "metadata": {
        "id": "R6mQbftusum7"
      },
      "source": [
        "**Step 5: Write a function that uses the random module to randomly decide which player goes first. You may want to lookup random.randint() Return a string of which player went first.**"
      ]
    },
    {
      "cell_type": "code",
      "execution_count": 9,
      "metadata": {
        "collapsed": true,
        "id": "p24-aEunsum7"
      },
      "outputs": [],
      "source": [
        "import random\n",
        "\n",
        "def choose_first():\n",
        "    which_player_goes_first = random.randint(1,2)\n",
        "    if which_player_goes_first == 1:\n",
        "       print('Player one chooses first')\n",
        "       return 1\n",
        "    else:\n",
        "        print('Player two chooses first')\n",
        "        return 2"
      ]
    },
    {
      "cell_type": "markdown",
      "metadata": {
        "id": "tFNsc1fQsum7"
      },
      "source": [
        "**Step 6: Write a function that returns a boolean indicating whether a space on the board is freely available.**"
      ]
    },
    {
      "cell_type": "code",
      "execution_count": 10,
      "metadata": {
        "collapsed": true,
        "id": "ghxHUKFRsum7"
      },
      "outputs": [],
      "source": [
        "def space_check(board, position):\n",
        "\n",
        "    if board[position] == 'X' or board[position] == 'O':\n",
        "       return False\n",
        "    else:\n",
        "       return True"
      ]
    },
    {
      "cell_type": "markdown",
      "metadata": {
        "id": "iSqtHBjNsum7"
      },
      "source": [
        "**Step 7: Write a function that checks if the board is full and returns a boolean value. True if full, False otherwise.**"
      ]
    },
    {
      "cell_type": "code",
      "execution_count": 11,
      "metadata": {
        "collapsed": true,
        "id": "QbCzDUXJsum7"
      },
      "outputs": [],
      "source": [
        "def full_board_check(board):\n",
        "\n",
        "    is_full_board = True\n",
        "    for value in board:\n",
        "        if value != 'X' and value != 'O':\n",
        "           is_full_board = False\n",
        "           break\n",
        "\n",
        "    return is_full_board"
      ]
    },
    {
      "cell_type": "markdown",
      "metadata": {
        "id": "AM7i07nYsum8"
      },
      "source": [
        "**Step 8: Write a function that asks for a player's next position (as a number 1-9) and then uses the function from step 6 to check if it's a free position. If it is, then return the position for later use.**"
      ]
    },
    {
      "cell_type": "code",
      "execution_count": 12,
      "metadata": {
        "collapsed": true,
        "id": "r5tbKlupsum8"
      },
      "outputs": [],
      "source": [
        "def player_choice(board):\n",
        "    allowed_choices = ['1','2','3','4','5','6','7','8','9']\n",
        "    choice = 'wrong'\n",
        "    is_choice_available = False\n",
        "\n",
        "    while choice not in allowed_choices and not is_choice_available:\n",
        "          choice = input('Please Select position (1 - 9)').strip()\n",
        "\n",
        "          if choice not in allowed_choices:\n",
        "             print('Please select between 1-9')\n",
        "          else:\n",
        "             choice = int(choice)\n",
        "             if not space_check(board, choice):\n",
        "                print('Space not available, please try another position')\n",
        "             else:\n",
        "                 is_choice_available = True\n",
        "\n",
        "    return int(choice)"
      ]
    },
    {
      "cell_type": "markdown",
      "metadata": {
        "id": "qMuNGCn0sum8"
      },
      "source": [
        "**Step 9: Write a function that asks the player if they want to play again and returns a boolean True if they do want to play again.**"
      ]
    },
    {
      "cell_type": "code",
      "execution_count": 13,
      "metadata": {
        "collapsed": true,
        "id": "AGOdr8Ygsum8"
      },
      "outputs": [],
      "source": [
        "def replay():\n",
        "\n",
        "    allowed_choices = ['y', 'n']\n",
        "    choice = 'wrong'\n",
        "    while choice not in allowed_choices:\n",
        "          choice = input ('Would you like to continue, (y,n)').strip().lower()\n",
        "          if choice not in allowed_choices:\n",
        "             print('Invalid choice, Please type y or n')\n",
        "\n",
        "    return choice == 'y'"
      ]
    },
    {
      "cell_type": "markdown",
      "metadata": {
        "collapsed": true,
        "id": "DoYJ5olBsum8"
      },
      "source": [
        "**Step 10: Here comes the hard part! Use while loops and the functions you've made to run the game!**"
      ]
    },
    {
      "cell_type": "code",
      "execution_count": 14,
      "metadata": {
        "collapsed": true,
        "id": "65fKV0Fbsum8",
        "colab": {
          "base_uri": "https://localhost:8080/"
        },
        "outputId": "cc66b137-3dc9-430d-eba0-8b5a8601becd"
      },
      "outputs": [
        {
          "name": "stdout",
          "output_type": "stream",
          "text": [
            "|  | O\n",
            "X| X | X\n",
            "O|  | \n",
            "Player one wins\n",
            "Would you like to continue, (y,n)n\n"
          ]
        }
      ],
      "source": [
        "print('Welcome to Tic Tac Toe!')\n",
        "\n",
        "while True:\n",
        "\n",
        "    board = ['#', '', '', '', '', '', '', '', '', '']\n",
        "    # Set the game up here\n",
        "    #pass\n",
        "    game_on = True\n",
        "    player_one_marker = player_input()\n",
        "    player_two_marker = 'O' if player_one_marker == 'X' else 'X'\n",
        "    whose_turn = choose_first()\n",
        "\n",
        "    while game_on:\n",
        "        display_board(board)\n",
        "        if win_check(board, player_one_marker):\n",
        "           print('Player one wins')\n",
        "           game_on = False\n",
        "           break\n",
        "        elif win_check(board, player_two_marker):\n",
        "           print('Player two wins')\n",
        "           game_on = False\n",
        "           break\n",
        "\n",
        "        if full_board_check(board):\n",
        "           print('Board is full, game is draw')\n",
        "           game_on = False\n",
        "           break\n",
        "\n",
        "        #Player 1 Turn\n",
        "        if whose_turn == 1:\n",
        "          print('Player 1 please select position to place the marker')\n",
        "          position = player_choice(board)\n",
        "          place_marker(board, player_one_marker, position)\n",
        "          whose_turn = 2\n",
        "        elif whose_turn == 2:\n",
        "          print('Player 2 please select position to place the marker')\n",
        "          position = player_choice(board)\n",
        "          place_marker(board, player_two_marker, position)\n",
        "          whose_turn = 1\n",
        "\n",
        "\n",
        "        # Player2's turn.\n",
        "\n",
        "            #pass\n",
        "\n",
        "    if not replay():\n",
        "        break"
      ]
    },
    {
      "cell_type": "code",
      "source": [
        "1 in ['1']"
      ],
      "metadata": {
        "colab": {
          "base_uri": "https://localhost:8080/"
        },
        "id": "R4ukq5DmIyv1",
        "outputId": "88efefe8-ac30-4ff9-a90c-c163b6f86151"
      },
      "execution_count": 15,
      "outputs": [
        {
          "output_type": "execute_result",
          "data": {
            "text/plain": [
              "False"
            ]
          },
          "metadata": {},
          "execution_count": 15
        }
      ]
    },
    {
      "cell_type": "markdown",
      "metadata": {
        "collapsed": true,
        "id": "xVTdTWSIsum8"
      },
      "source": [
        "## Good Job!"
      ]
    }
  ],
  "metadata": {
    "kernelspec": {
      "display_name": "Python 3",
      "language": "python",
      "name": "python3"
    },
    "language_info": {
      "codemirror_mode": {
        "name": "ipython",
        "version": 3
      },
      "file_extension": ".py",
      "mimetype": "text/x-python",
      "name": "python",
      "nbconvert_exporter": "python",
      "pygments_lexer": "ipython3",
      "version": "3.6.6"
    },
    "colab": {
      "provenance": [],
      "include_colab_link": true
    }
  },
  "nbformat": 4,
  "nbformat_minor": 0
}